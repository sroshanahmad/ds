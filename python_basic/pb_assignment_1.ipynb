{
 "cells": [
  {
   "cell_type": "markdown",
   "id": "b3a82576",
   "metadata": {},
   "source": [
    "## 1. Write a Python program to print &quot;Hello Python&quot;?"
   ]
  },
  {
   "cell_type": "code",
   "execution_count": 1,
   "id": "3b81f43d",
   "metadata": {},
   "outputs": [
    {
     "name": "stdout",
     "output_type": "stream",
     "text": [
      "Hello Python\n"
     ]
    }
   ],
   "source": [
    "print('Hello Python')"
   ]
  },
  {
   "cell_type": "markdown",
   "id": "6f58ebf3",
   "metadata": {},
   "source": [
    "## 2. Write a Python program to do arithmetical operations addition and division.?"
   ]
  },
  {
   "cell_type": "code",
   "execution_count": 16,
   "id": "79c3158a",
   "metadata": {},
   "outputs": [],
   "source": [
    "def operations():\n",
    "    while(True):\n",
    "        print('Enter\\n 1 for addition \\n 2 for division \\n 0 to exit')\n",
    "        res = int(input('Input: '))\n",
    "        if res==0:\n",
    "            break\n",
    "        a = int(input('Enter first number: '))\n",
    "        b = int(input('Enter second number: '))\n",
    "        if res==1:\n",
    "            print(f\"Result: {a+b}\")\n",
    "        elif res==2:\n",
    "            print(f\"Result: {a//b}\")"
   ]
  },
  {
   "cell_type": "code",
   "execution_count": 17,
   "id": "a85a8250",
   "metadata": {},
   "outputs": [
    {
     "name": "stdout",
     "output_type": "stream",
     "text": [
      "Enter\n",
      " 1 for addition \n",
      " 2 for division \n",
      " 0 to exit\n",
      "Input: 1\n",
      "Enter first number: 11\n",
      "Enter second number: 22\n",
      "Result: 33\n",
      "Enter\n",
      " 1 for addition \n",
      " 2 for division \n",
      " 0 to exit\n",
      "Input: 2\n",
      "Enter first number: 10\n",
      "Enter second number: 2\n",
      "Result: 5\n",
      "Enter\n",
      " 1 for addition \n",
      " 2 for division \n",
      " 0 to exit\n",
      "Input: 0\n"
     ]
    }
   ],
   "source": [
    "operations()"
   ]
  },
  {
   "cell_type": "markdown",
   "id": "c9713015",
   "metadata": {},
   "source": [
    "## 3. Write a Python program to find the area of a triangle?"
   ]
  },
  {
   "cell_type": "code",
   "execution_count": 18,
   "id": "74f2e1ef",
   "metadata": {},
   "outputs": [],
   "source": [
    "def areaTriangle():\n",
    "    h = int(input('Enter height of triangle: '))\n",
    "    b = int(input('Enter base of triangle: '))\n",
    "    return (f\"Area: {(h*b)/2}\")\n"
   ]
  },
  {
   "cell_type": "code",
   "execution_count": 19,
   "id": "2157797a",
   "metadata": {},
   "outputs": [
    {
     "name": "stdout",
     "output_type": "stream",
     "text": [
      "Enter height of triangle: 12\n",
      "Enter base of triangle: 4\n"
     ]
    },
    {
     "data": {
      "text/plain": [
       "'Area: 24.0'"
      ]
     },
     "execution_count": 19,
     "metadata": {},
     "output_type": "execute_result"
    }
   ],
   "source": [
    "areaTriangle()"
   ]
  },
  {
   "cell_type": "markdown",
   "id": "eb57980f",
   "metadata": {},
   "source": [
    "## 4. Write a Python program to swap two variables?"
   ]
  },
  {
   "cell_type": "code",
   "execution_count": 20,
   "id": "6dfd1e8b",
   "metadata": {},
   "outputs": [],
   "source": [
    "def swap():\n",
    "    a = int(input('Enter value of a: '))\n",
    "    b = int(input('Enter value of b: '))\n",
    "    \n",
    "    print(f\"Before swapping a={a}  b={b}\")\n",
    "    \n",
    "    b,a  = a,b\n",
    "    print(f\"After swapping a={a}  b={b}\")"
   ]
  },
  {
   "cell_type": "code",
   "execution_count": 21,
   "id": "2d3f23f0",
   "metadata": {},
   "outputs": [
    {
     "name": "stdout",
     "output_type": "stream",
     "text": [
      "Enter value of a: 1\n",
      "Enter value of b: 2\n",
      "Before swapping a=1  b=2\n",
      "After swapping a=2  b=1\n"
     ]
    }
   ],
   "source": [
    "swap()"
   ]
  },
  {
   "cell_type": "markdown",
   "id": "773debf1",
   "metadata": {},
   "source": [
    "## 5. Write a Python program to generate a random number?"
   ]
  },
  {
   "cell_type": "code",
   "execution_count": 22,
   "id": "f01b28fb",
   "metadata": {},
   "outputs": [
    {
     "name": "stdout",
     "output_type": "stream",
     "text": [
      "0.9989862194162288\n"
     ]
    }
   ],
   "source": [
    "import random\n",
    "n = random.random()\n",
    "print(n)"
   ]
  }
 ],
 "metadata": {
  "kernelspec": {
   "display_name": "Python 3",
   "language": "python",
   "name": "python3"
  },
  "language_info": {
   "codemirror_mode": {
    "name": "ipython",
    "version": 3
   },
   "file_extension": ".py",
   "mimetype": "text/x-python",
   "name": "python",
   "nbconvert_exporter": "python",
   "pygments_lexer": "ipython3",
   "version": "3.7.7"
  }
 },
 "nbformat": 4,
 "nbformat_minor": 5
}
